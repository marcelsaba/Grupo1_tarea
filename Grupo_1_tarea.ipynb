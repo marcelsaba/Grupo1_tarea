{
 "cells": [
  {
   "cell_type": "markdown",
   "metadata": {},
   "source": [
    "# Tarea Grupo 1 "
   ]
  },
  {
   "cell_type": "markdown",
   "metadata": {},
   "source": [
    "\n",
    "**1. Las dos cosas que toda computadora puede hacer son:** "
   ]
  },
  {
   "cell_type": "markdown",
   "metadata": {},
   "source": [
    "Realizar calculos y recordarte los resultados (complementar respuesta)."
   ]
  },
  {
   "cell_type": "markdown",
   "metadata": {},
   "source": [
    "**2. Indicar V o F:**"
   ]
  },
  {
   "cell_type": "markdown",
   "metadata": {},
   "source": [
    "A) El conocimiento declarativo se refiere a declaraciones de hechos ( )"
   ]
  },
  {
   "cell_type": "markdown",
   "metadata": {},
   "source": [
    "B) El conocimiento imperativo se refiere a métodos de \"cómo hacer\" ( )"
   ]
  },
  {
   "cell_type": "markdown",
   "metadata": {},
   "source": [
    "c) En Una receta para deducir la raíz cuadrada implica adivinar un valor inicial, Sin otra receta para saber cómo elegir un número inicial, la computadora no puede generar uno por sí sola. ( )"
   ]
  },
  {
   "cell_type": "markdown",
   "metadata": {},
   "source": [
    "**3. Dé un ejemplo de conocimiento declarativo e imperativo**"
   ]
  },
  {
   "cell_type": "markdown",
   "metadata": {},
   "source": [
    "Respuesta aquí"
   ]
  },
  {
   "cell_type": "markdown",
   "metadata": {},
   "source": [
    "**4. Escriba un código que pida ingresar un número entero por teclado e imprima:**\n",
    "\n",
    "**- El identificador**\n",
    "\n",
    "**- El tipo de datos (entero, decimal,complejo, cadena , etc.)**\n",
    "\n",
    "**- El valor (el propio dato).**"
   ]
  },
  {
   "cell_type": "code",
   "execution_count": null,
   "metadata": {},
   "outputs": [],
   "source": []
  },
  {
   "cell_type": "markdown",
   "metadata": {},
   "source": [
    "**5. Dado la cadena \"tengo una yama que yama se llama y cuando me llama yama me llama\" , escriba un código que convierta la cadena en lista e imprima el número de elementos de la lista.**"
   ]
  },
  {
   "cell_type": "code",
   "execution_count": null,
   "metadata": {},
   "outputs": [],
   "source": [
    "cadena1 = 'tengo una yama que yama se llama'\n",
    "cuenta = cadena1.count('ma')\n",
    "cuenta"
   ]
  },
  {
   "cell_type": "markdown",
   "metadata": {},
   "source": [
    "**6. Escriba un código que busque la letra “e” en los seis primeros caracteres del string “Muerte a Manuel”**"
   ]
  },
  {
   "cell_type": "code",
   "execution_count": 6,
   "metadata": {},
   "outputs": [
    {
     "name": "stdout",
     "output_type": "stream",
     "text": [
      "Muerte a Manuel\n",
      "<class 'str'>\n",
      "2\n"
     ]
    }
   ],
   "source": [
    "x=\"Muerte a Manuel\"\n",
    "print(x)\n",
    "print(type(x))\n",
    "print(x[:6].find(\"e\"))"
   ]
  },
  {
   "cell_type": "markdown",
   "metadata": {},
   "source": [
    "**7. Escriba un código que cuente el número de apariciones de la cad1 en cad2 si cad1= \"yama\" y cad2= \"tengo una yama que yama se llama y cuando me llama yama me llama\"**"
   ]
  },
  {
   "cell_type": "code",
   "execution_count": 9,
   "metadata": {},
   "outputs": [
    {
     "name": "stdout",
     "output_type": "stream",
     "text": [
      "yama\n",
      "tengo una yama que yama se llama y cuando me llama yama me llama\n",
      "<class 'str'>\n"
     ]
    }
   ],
   "source": [
    "cad1=\"yama\"\n",
    "cad2=\"tengo una yama que yama se llama y cuando me llama yama me llama\"\n",
    "print(cad1)\n",
    "print(cad2)\n",
    "print(type(cad2))"
   ]
  },
  {
   "cell_type": "code",
   "execution_count": 13,
   "metadata": {},
   "outputs": [
    {
     "name": "stdout",
     "output_type": "stream",
     "text": [
      "['tengo', 'una', 'yama', 'que', 'yama', 'se', 'llama', 'y', 'cuando', 'me', 'llama', 'yama', 'me', 'llama']\n"
     ]
    }
   ],
   "source": [
    "listapalabras=cad2.split()\n",
    "print(listapalabras)"
   ]
  },
  {
   "cell_type": "code",
   "execution_count": 18,
   "metadata": {},
   "outputs": [
    {
     "data": {
      "text/plain": [
       "3"
      ]
     },
     "execution_count": 18,
     "metadata": {},
     "output_type": "execute_result"
    }
   ],
   "source": [
    "cad2.count(cad1)"
   ]
  },
  {
   "cell_type": "code",
   "execution_count": 19,
   "metadata": {},
   "outputs": [
    {
     "data": {
      "text/plain": [
       "3"
      ]
     },
     "execution_count": 19,
     "metadata": {},
     "output_type": "execute_result"
    }
   ],
   "source": [
    "listapalabras.count(cad1)"
   ]
  }
 ],
 "metadata": {
  "kernelspec": {
   "display_name": "Python 3",
   "language": "python",
   "name": "python3"
  },
  "language_info": {
   "codemirror_mode": {
    "name": "ipython",
    "version": 3
   },
   "file_extension": ".py",
   "mimetype": "text/x-python",
   "name": "python",
   "nbconvert_exporter": "python",
   "pygments_lexer": "ipython3",
   "version": "3.8.5"
  }
 },
 "nbformat": 4,
 "nbformat_minor": 4
}
